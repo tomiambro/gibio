{
 "cells": [
  {
   "cell_type": "markdown",
   "metadata": {},
   "source": [
    " #### Procesamiento Digital de Señales\n",
    "\n",
    "# Trabajo Práctico Nº1\n",
    "#### Tomas Ambrogi\n"
   ]
  },
  {
   "cell_type": "code",
   "execution_count": 1,
   "metadata": {},
   "outputs": [
    {
     "data": {
      "text/plain": [
       "<Figure size 1000x1000 with 3 Axes>"
      ]
     },
     "metadata": {},
     "output_type": "display_data"
    },
    {
     "data": {
      "text/html": [
       "<table border=\"1\" class=\"dataframe\">\n",
       "  <thead>\n",
       "    <tr style=\"text-align: right;\">\n",
       "      <th></th>\n",
       "      <th>Frecuencia central</th>\n",
       "      <th>Primer adyacente</th>\n",
       "      <th>Resto de frecuencias</th>\n",
       "    </tr>\n",
       "  </thead>\n",
       "  <tbody>\n",
       "    <tr>\n",
       "      <th>$f_0$ \\ expr. matemática</th>\n",
       "      <td>$ \\lvert X(f_0) \\lvert$</td>\n",
       "      <td>$ \\lvert X(f_0+1) \\lvert $</td>\n",
       "      <td>$\\sum_{i=F} \\lvert X(f_i) \\lvert ^2 $</td>\n",
       "    </tr>\n",
       "    <tr>\n",
       "      <th></th>\n",
       "      <td></td>\n",
       "      <td></td>\n",
       "      <td>$F:f \\neq f_0$</td>\n",
       "    </tr>\n",
       "    <tr>\n",
       "      <th>$f_S/4$</th>\n",
       "      <td>500</td>\n",
       "      <td>1.01162e-11</td>\n",
       "      <td>250000</td>\n",
       "    </tr>\n",
       "    <tr>\n",
       "      <th>$f_S/4+0.01$</th>\n",
       "      <td>499.917</td>\n",
       "      <td>5.05069</td>\n",
       "      <td>250081</td>\n",
       "    </tr>\n",
       "    <tr>\n",
       "      <th>$f_S/4+0.25$</th>\n",
       "      <td>449.805</td>\n",
       "      <td>150.406</td>\n",
       "      <td>297176</td>\n",
       "    </tr>\n",
       "    <tr>\n",
       "      <th>$f_S/4+0.5$</th>\n",
       "      <td>318.309</td>\n",
       "      <td>318.312</td>\n",
       "      <td>398679</td>\n",
       "    </tr>\n",
       "  </tbody>\n",
       "</table>"
      ],
      "text/plain": [
       "<IPython.core.display.HTML object>"
      ]
     },
     "execution_count": 1,
     "metadata": {},
     "output_type": "execute_result"
    }
   ],
   "source": [
    "# Módulos para Jupyter\n",
    "import warnings\n",
    "warnings.filterwarnings('ignore')\n",
    "\n",
    "import numpy as np\n",
    "import matplotlib as mpl\n",
    "#%%  Inicialización de librerías\n",
    "# Setup inline graphics: Esto lo hacemos para que el tamaño de la salida, \n",
    "# sea un poco más adecuada al tamaño del documento\n",
    "mpl.rcParams['figure.figsize'] = (10,10)\n",
    "\n",
    "import matplotlib.pyplot as plt\n",
    "\n",
    "#%% Esto tiene que ver con cuestiones de presentación de los gráficos,\n",
    "# NO ES IMPORTANTE\n",
    "fig_sz_x = 14\n",
    "fig_sz_y = 13\n",
    "fig_dpi = 80 # dpi\n",
    "\n",
    "fig_font_family = 'Ubuntu'\n",
    "fig_font_size = 16\n",
    "\n",
    "plt.rcParams.update({'font.size':fig_font_size})\n",
    "plt.rcParams.update({'font.family':fig_font_family})\n",
    "\n",
    "##############################################\n",
    "#%% A partir de aquí comienza lo IMPORTANTE #\n",
    "#############################################\n",
    "from pandas import DataFrame\n",
    "from IPython.display import HTML\n",
    "from matplotlib.pyplot import figure\n",
    "#import matplotlib.pyplot as plt\n",
    "from generadores import generador_senoidal\n",
    "N = 1000\n",
    "fs = 1000\n",
    "fo = fs/4\n",
    "fd = [0,0.01,0.25,0.5]\n",
    "\n",
    "ts = 1/fs # tiempo de muestreo\n",
    "df = fs/N # resolución espectral\n",
    "\n",
    "ff = np.linspace(-N/2, (N/2)*df, N).flatten()\n",
    "\n",
    "[tt, s0] = generador_senoidal(fs, fo + fd[0], N)\n",
    "[tt, s1] = generador_senoidal(fs, fo + fd[1], N)\n",
    "[tt, s2] = generador_senoidal(fs, fo + fd[2], N)\n",
    "[tt, s3] = generador_senoidal(fs, fo + fd[3], N)\n",
    "\n",
    "S0 = np.fft.fft(s0)\n",
    "S1 = np.fft.fft(s1)\n",
    "S2 = np.fft.fft(s2)\n",
    "S3 = np.fft.fft(s3)\n",
    "M0 = (fo + fd[0]) * N / fs\n",
    "M1 = (fo + fd[1]) * N / fs\n",
    "M2 = (fo + fd[2]) * N / fs\n",
    "M3 = (fo + fd[3]) * N / fs\n",
    "\n",
    "plt.subplot(311)\n",
    "plt.plot(ff, np.abs(S1))\n",
    "plt.subplot(312)\n",
    "plt.plot(ff, np.abs(S2))\n",
    "plt.subplot(313)\n",
    "plt.plot(ff, np.abs(S3))\n",
    "plt.show()\n",
    "\n",
    "\n",
    "\n",
    "tus_resultados = [ ['$ \\lvert X(f_0) \\lvert$', '$ \\lvert X(f_0+1) \\lvert $', '$\\sum_{i=F} \\lvert X(f_i) \\lvert ^2 $'], \n",
    "                   ['',                        '',                           '$F:f \\neq f_0$'], \n",
    "                  ['', '', ''], # <-- acá debería haber numeritos :)\n",
    "                  ['', '', ''], # <-- acá debería haber numeritos :)\n",
    "                  ['', '', ''], # <-- acá debería haber numeritos :)\n",
    "                  ['', '', '']  # <-- acá debería haber numeritos :)\n",
    "                 ]\n",
    "\n",
    "\n",
    "tus_resultados[2][0] = np.abs(S0[int(M0)])\n",
    "tus_resultados[3][0] = np.abs(S1[int(M1)])\n",
    "tus_resultados[4][0] = np.abs(S2[int(M2)])\n",
    "tus_resultados[5][0] = np.abs(S3[int(M3)])\n",
    "\n",
    "tus_resultados[2][1] = np.abs(S0[int(M0 + 1)])\n",
    "tus_resultados[3][1] = np.abs(S1[int(M1 + 1)])\n",
    "tus_resultados[4][1] = np.abs(S2[int(M2 + 1)])\n",
    "tus_resultados[5][1] = np.abs(S3[int(M3 + 1)])\n",
    "\n",
    "\n",
    "aux = 0\n",
    "\n",
    "for x in range(int(N)):\n",
    "    if x != int(M0):\n",
    "        aux += np.power(np.abs(S0[int(x)]), 2)\n",
    "tus_resultados[2][2] = aux\n",
    "\n",
    "aux = 0\n",
    "\n",
    "for x in range(int(N)):\n",
    "    if x != int(M1):\n",
    "        aux += np.power(np.abs(S1[int(x)]), 2)\n",
    "tus_resultados[3][2] = aux\n",
    "\n",
    "aux = 0\n",
    "\n",
    "for x in range(int(N)):\n",
    "    if x != int(M2):\n",
    "        aux += np.power(np.abs(S2[int(x)]), 2)\n",
    "tus_resultados[4][2] = aux\n",
    "\n",
    "aux = 0\n",
    "\n",
    "for x in range(int(N)):\n",
    "    if x != int(M3):\n",
    "        aux += np.power(np.abs(S3[int(x)]), 2)\n",
    "tus_resultados[5][2] = aux\n",
    "    \n",
    "df = DataFrame(tus_resultados, columns=['Frecuencia central', 'Primer adyacente', 'Resto de frecuencias'],\n",
    "               index=['$f_0$ \\ expr. matemática', \n",
    "                      '', \n",
    "                      '$f_S/4$', \n",
    "                      '$f_S/4+0.01$', \n",
    "                      '$f_S/4+0.25$', \n",
    "                      '$f_S/4+0.5$'])\n",
    "HTML(df.to_html())"
   ]
  },
  {
   "cell_type": "code",
   "execution_count": 8,
   "metadata": {},
   "outputs": [
    {
     "data": {
      "image/png": "[encoded data removed]",
      "text/plain": [
       "<Figure size 432x288 with 1 Axes>"
      ]
     },
     "metadata": {
      "needs_background": "light"
     },
     "output_type": "display_data"
    },
    {
     "data": {
      "image/png": "[encoded data removed]",
      "text/plain": [
       "<Figure size 432x288 with 1 Axes>"
      ]
     },
     "metadata": {
      "needs_background": "light"
     },
     "output_type": "display_data"
    },
    {
     "data": {
      "image/png": "[encoded data removed]",
      "text/plain": [
       "<Figure size 432x288 with 1 Axes>"
      ]
     },
     "metadata": {
      "needs_background": "light"
     },
     "output_type": "display_data"
    },
    {
     "data": {
      "image/png": "[encoded data removed]",
      "text/plain": [
       "<Figure size 432x288 with 1 Axes>"
      ]
     },
     "metadata": {
      "needs_background": "light"
     },
     "output_type": "display_data"
    }
   ],
   "source": [
    "Mj = [int(N/10), N, 10*N]\n",
    "\n",
    "#plt.subplot(121)\n",
    "plt.plot(ff, np.abs(S3))\n",
    "plt.show()\n",
    "\n",
    "N_pad0 = int(N + Mj[0])\n",
    "ff_pad0 = np.linspace(-int((N_pad0/2)*fs/N_pad0), int((N_pad0/2)*fs/N_pad0), N_pad0).flatten()\n",
    "s3_pad0 = np.pad(s3, int(Mj[0]/2), 'constant')\n",
    "S3_pad0 = np.fft.fft(s3_pad0)\n",
    "\n",
    "#plt.subplot(122)\n",
    "plt.plot(ff_pad0, np.abs(S3_pad0))\n",
    "plt.show()\n",
    "\n",
    "\n",
    "N_pad1 = N + Mj[1]\n",
    "ff_pad1 = np.linspace(-int((N_pad1/2)*fs/N_pad1), int((N_pad1/2)*fs/N_pad1), N_pad1).flatten()\n",
    "s3_pad1 = np.pad(s3, int(Mj[1]/2), 'constant')\n",
    "S3_pad1 = np.fft.fft(s3_pad1)\n",
    "\n",
    "#plt.subplot(121)\n",
    "plt.plot(ff_pad1, np.abs(S3_pad1))\n",
    "plt.show()\n",
    "\n",
    "\n",
    "N_pad2 = N + Mj[2]\n",
    "ff_pad2 = np.linspace(-int((N_pad2/2)*fs/N_pad2), int((N_pad2/2)*fs/N_pad2), N_pad2).flatten()\n",
    "s3_pad2 = np.pad(s3, int(Mj[2]/2), 'constant')\n",
    "S3_pad2 = np.fft.fft(s3_pad2)\n",
    "\n",
    "#plt.subplot(122)\n",
    "plt.plot(ff_pad2, np.abs(S3_pad2))\n",
    "plt.show()\n",
    "\n",
    "\n",
    "M0 = (fo + 0.5) * N_pad0 / fs\n",
    "M1 = (fo + 0.5) * N_pad1 / fs\n",
    "M2 = (fo + 0.5) * N_pad2 / fs\n",
    "\n"
   ]
  },
  {
   "cell_type": "markdown",
   "metadata": {},
   "source": [
    "Dado que modificamos la cantidad de muestras <em>N</em> de la señal sin modificar nuestra frecuencia de muestreo <em>$f_s$</em>, la resolucion espectral cambia."
   ]
  },
  {
   "cell_type": "markdown",
   "metadata": {},
   "source": [
    "## Calculo Porcentual"
   ]
  },
  {
   "cell_type": "code",
   "execution_count": 15,
   "metadata": {},
   "outputs": [
    {
     "data": {
      "text/html": [
       "<table border=\"1\" class=\"dataframe\">\n",
       "  <thead>\n",
       "    <tr style=\"text-align: right;\">\n",
       "      <th></th>\n",
       "      <th>$e_\\%$</th>\n",
       "    </tr>\n",
       "  </thead>\n",
       "  <tbody>\n",
       "    <tr>\n",
       "      <th>0</th>\n",
       "      <td>0.199601</td>\n",
       "    </tr>\n",
       "    <tr>\n",
       "      <th>$N/10$</th>\n",
       "      <td>10.179641</td>\n",
       "    </tr>\n",
       "    <tr>\n",
       "      <th>$N$</th>\n",
       "      <td>100.000000</td>\n",
       "    </tr>\n",
       "    <tr>\n",
       "      <th>$10N$</th>\n",
       "      <td>997.005988</td>\n",
       "    </tr>\n",
       "  </tbody>\n",
       "</table>"
      ],
      "text/plain": [
       "<IPython.core.display.HTML object>"
      ]
     },
     "execution_count": 15,
     "metadata": {},
     "output_type": "execute_result"
    }
   ],
   "source": [
    "Max = 0\n",
    "for x in range(int(N/2)):\n",
    "    if np.abs(S3[x]) > Max:\n",
    "        Max = x\n",
    "\n",
    "M = (fo + fd[3]) * N / fs\n",
    "\n",
    "\n",
    "Max0 = 0\n",
    "for x in range(int(N_pad0/2)):\n",
    "    if np.abs(S3_pad0[x]) > Max0:\n",
    "        Max0 = x\n",
    "\n",
    "\n",
    "Max1 = 0\n",
    "for x in range(int(N_pad1/2)):\n",
    "    if np.abs(S3_pad1[x]) > Max1:\n",
    "        Max1 = x\n",
    "\n",
    "\n",
    "Max2 = 0\n",
    "for x in range(int(N_pad2/2)):\n",
    "    if np.abs(S3_pad2[x]) > Max2:\n",
    "        Max2 = x\n",
    "\n",
    "tus_resultados = ['', # <-- acá debería haber numeritos :)\n",
    "                  '', # <-- acá debería haber numeritos :)\n",
    "                  '', # <-- acá debería haber numeritos :)\n",
    "                  '' # <-- acá debería haber numeritos :)\n",
    "                 ]\n",
    "\n",
    "\n",
    "\n",
    "\n",
    "#tus_resultados[0] = ((Max - M)/M)*100\n",
    "#tus_resultados[1] = ((Max0 - M0)/M0)*100\n",
    "#tus_resultados[2] = ((Max1 - M1)/M1)*100\n",
    "#tus_resultados[3] = (np.abs(Max2 - M2)/M2)*100\n",
    "\n",
    "\n",
    "tus_resultados[0] = ((Max - M)/M)*100\n",
    "tus_resultados[1] = ((Max0 - M)/M)*100\n",
    "tus_resultados[2] = ((Max1 - M)/M)*100\n",
    "tus_resultados[3] = (np.abs(Max2 - M)/M)*100\n",
    "\n",
    "\n",
    "df = DataFrame(tus_resultados, columns=['$e_\\%$'],\n",
    "               index=['0',\n",
    "                      '$N/10$', \n",
    "                      '$N$', \n",
    "                      '$10N$'])\n",
    "HTML(df.to_html())"
   ]
  }
 ],
 "metadata": {
  "kernelspec": {
   "display_name": "Python 3",
   "language": "python",
   "name": "python3"
  },
  "language_info": {
   "codemirror_mode": {
    "name": "ipython",
    "version": 3
   },
   "file_extension": ".py",
   "mimetype": "text/x-python",
   "name": "python",
   "nbconvert_exporter": "python",
   "pygments_lexer": "ipython3",
   "version": "3.7.3"
  }
 },
 "nbformat": 4,
 "nbformat_minor": 2
}
